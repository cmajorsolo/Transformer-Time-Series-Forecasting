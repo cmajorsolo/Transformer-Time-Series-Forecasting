{
 "cells": [
  {
   "cell_type": "code",
   "execution_count": 1,
   "id": "0c026264",
   "metadata": {},
   "outputs": [],
   "source": [
    "from model import Transformer\n",
    "from torch.utils.data import DataLoader\n",
    "import torch\n",
    "import torch.nn as nn\n",
    "import logging\n",
    "import time # debugging\n",
    "from plot import plot_training_crypto, plot_loss\n",
    "from helpers import log_loss, clean_directory\n",
    "from joblib import load\n",
    "from icecream import ic\n",
    "from torch.optim.lr_scheduler import ReduceLROnPlateau\n",
    "from tqdm import tqdm\n",
    "import math, random"
   ]
  },
  {
   "cell_type": "code",
   "execution_count": 2,
   "id": "6749e75c",
   "metadata": {},
   "outputs": [],
   "source": [
    "logging.basicConfig(level=logging.INFO, format=\"%(asctime)s [%(levelname)s] %(name)s %(message)s\", datefmt=\"[%Y-%m-%d %H:%M:%S]\")\n",
    "logger = logging.getLogger(__name__)"
   ]
  },
  {
   "cell_type": "code",
   "execution_count": 3,
   "id": "d4918444",
   "metadata": {},
   "outputs": [],
   "source": [
    "def flip_from_probability(p):\n",
    "    return True if random.random() < p else False"
   ]
  },
  {
   "cell_type": "code",
   "execution_count": 4,
   "id": "1e0970bf",
   "metadata": {},
   "outputs": [],
   "source": [
    "# def transformer(dataloader, EPOCH, k, frequency, path_to_save_model, path_to_save_loss, path_to_save_predictions, device):\n",
    "\n",
    "#     device = torch.device(device)\n",
    "\n",
    "#     model = Transformer().double().to(device)\n",
    "#     optimizer = torch.optim.Adam(model.parameters())\n",
    "#     # scheduler = torch.optim.lr_scheduler.ReduceLROnPlateau(optimizer, mode='min', factor=0.1, patience=200)\n",
    "#     criterion = torch.nn.MSELoss()\n",
    "#     best_model = \"\"\n",
    "#     min_train_loss = float('inf')\n",
    "\n",
    "# #     EPOCH = EPOCH + 1\n",
    "#     for epoch in range(EPOCH + 1):\n",
    "#         logger.info(f\"Epoch: {epoch}\")\n",
    "#         train_loss = 0\n",
    "#         val_loss = 0\n",
    "\n",
    "#         ## TRAIN -- TEACHER FORCING\n",
    "#         model.train()\n",
    "#         # for index_in, index_tar, _input, target, sensor_number in dataloader:\n",
    "# #         with tqdm(total=len(dataloader.dataset), desc=f\"[Epoch {epoch+1:3d}/{EPOCH}]\") as pbar:\n",
    "#         dataloader_idx = 0\n",
    "#         logger.info('dataloader length {}'.format(len(dataloader.dataset)))\n",
    "#         for index_in, index_tar, _input, target in dataloader:\n",
    "#             if dataloader_idx in [1000, 2000, 3000, 4000, 5000, 5537]:\n",
    "#                 logger.info('dataloader No. {}'.format(dataloader_idx))\n",
    "#             # Shape of _input : [batch, input_length, feature]\n",
    "#             # Desired input for model: [input_length, batch, feature]\n",
    "#             optimizer.zero_grad()\n",
    "#             src = _input.permute(1,0,2).double().to(device)[:-1,:,:] # torch.Size([24, 1, 7])\n",
    "#             target = _input.permute(1,0,2).double().to(device)[1:,:,:] # src shifted by 1.\n",
    "#             sampled_src = src[:1, :, :] #t0 torch.Size([1, 1, 7])\n",
    "\n",
    "#             for i in range(len(target)-1):\n",
    "#                 prediction = model(sampled_src, device) # torch.Size([1xw, 1, 1])\n",
    "#                 # for p1, p2 in zip(params, model.parameters()):\n",
    "#                 #     if p1.data.ne(p2.data).sum() > 0:\n",
    "#                 #         ic(False)\n",
    "#                 # ic(True)\n",
    "#                 # ic(i, sampled_src[:,:,0], prediction)\n",
    "#                 # time.sleep(1)\n",
    "#                 \"\"\"\n",
    "#                 # to update model at every step\n",
    "#                 # loss = criterion(prediction, target[:i+1,:,:1])\n",
    "#                 # loss.backward()\n",
    "#                 # optimizer.step()\n",
    "#                 \"\"\"\n",
    "\n",
    "#                 if i < 24: # One day, enough data to make inferences about cycles\n",
    "#                     prob_true_val = True\n",
    "#                 else:\n",
    "#                     ## coin flip\n",
    "#                     v = k/(k+math.exp(epoch/k)) # probability of heads/tails depends on the epoch, evolves with time.\n",
    "#                     prob_true_val = flip_from_probability(v) # starts with over 95 % probability of true val for each flip in epoch 0.\n",
    "#                     ## if using true value as new value\n",
    "\n",
    "#                 if prob_true_val: # Using true value as next value\n",
    "#                     sampled_src = torch.cat((sampled_src.detach(), src[i+1, :, :].unsqueeze(0).detach()))\n",
    "#                 else: ## using prediction as new value\n",
    "#                     positional_encodings_new_val = src[i+1,:,1:].unsqueeze(0)\n",
    "#                     predicted_close_price = torch.cat((prediction[-1,:,:].unsqueeze(0), positional_encodings_new_val), dim=2)\n",
    "#                     sampled_src = torch.cat((sampled_src.detach(), predicted_close_price.detach()))\n",
    "            \n",
    "\n",
    "#             \"\"\"To update model after each sequence\"\"\"\n",
    "#             loss = criterion(target[:-1,:,0].unsqueeze(-1), prediction)\n",
    "#             loss.backward()  #backward propogation\n",
    "#             optimizer.step()\n",
    "#             train_loss += loss.detach().item()\n",
    "#             dataloader_idx += 1\n",
    "\n",
    "#         if train_loss < min_train_loss:\n",
    "#             torch.save(model.state_dict(), path_to_save_model + f\"best_train_{epoch}.pth\")\n",
    "#             torch.save(optimizer.state_dict(), path_to_save_model + f\"optimizer_{epoch}.pth\")\n",
    "#             min_train_loss = train_loss\n",
    "#             best_model = f\"best_train_{epoch}.pth\"\n",
    "\n",
    "\n",
    "#         if epoch % 10 == 0: # Plot 1-Step Predictions\n",
    "#             logger.info(f\"Epoch: {epoch}, Training loss: {train_loss}\")\n",
    "#             scaler = load('scalar_item.joblib')\n",
    "#             sampled_src_crypto = scaler.inverse_transform(sampled_src[:,:,0].cpu()) #torch.Size([35, 1, 7])\n",
    "#             src_crypto = scaler.inverse_transform(src[:,:,0].cpu()) #torch.Size([35, 1, 7])\n",
    "#             target_crypto = scaler.inverse_transform(target[:,:,0].cpu()) #torch.Size([35, 1, 7])\n",
    "#             prediction_crypto = scaler.inverse_transform(prediction[:,:,0].detach().cpu().numpy()) #torch.Size([35, 1, 7])\n",
    "#             plot_training_crypto(epoch, path_to_save_predictions, src_crypto, sampled_src_crypto, prediction_crypto, index_in, index_tar)\n",
    "\n",
    "#         logger.info('training finished for epoch {}....'.format(epoch))\n",
    "        \n",
    "#         train_loss /= len(dataloader)\n",
    "#         log_loss(train_loss, path_to_save_loss, train=True)\n",
    "       \n",
    "        \n",
    "#     plot_loss(path_to_save_loss, train=True)\n",
    "#     logger.info('best model is {}'.format(best_model))\n",
    "#     return best_model"
   ]
  },
  {
   "cell_type": "code",
   "execution_count": 5,
   "id": "eca4bb01",
   "metadata": {},
   "outputs": [],
   "source": [
    "import argparse\n",
    "# from train_teacher_forcing import *\n",
    "from btc_train_with_sampling import transformer\n",
    "from CryptoDataLoader import CryptoDataSet\n",
    "from torch.utils.data import DataLoader\n",
    "import torch.nn as nn\n",
    "import torch\n",
    "from helpers import clean_directory\n",
    "from btc_inference import inference"
   ]
  },
  {
   "cell_type": "code",
   "execution_count": 6,
   "id": "adb45311",
   "metadata": {},
   "outputs": [],
   "source": [
    "epoch = 30\n",
    "k = 60\n",
    "batch_size = 1\n",
    "frequency = 100\n",
    "training_length = 48\n",
    "forecast_window = 24\n",
    "# train_csv = \"btc_data_train_short.csv\"\n",
    "# test_csv = \"btc_data_test_short.csv\"\n",
    "train_csv = \"btc_data_train_3hrs.csv\"\n",
    "test_csv = \"btc_data_test_3hrs.csv\"\n",
    "path_to_save_model = \"save_model/\"\n",
    "path_to_save_loss = \"save_loss/\"\n",
    "path_to_save_predictions = \"save_predictions/\"\n",
    "device = \"cpu\"\n",
    "\n",
    "train_dataset = CryptoDataSet(csv_name = train_csv, root_dir = \"Data/\", training_length = training_length, forecast_window = forecast_window)\n",
    "train_dataloader = DataLoader(train_dataset, batch_size=1, shuffle=True)\n",
    "test_dataset = CryptoDataSet(csv_name = test_csv, root_dir = \"Data/\", training_length = training_length, forecast_window = forecast_window)\n",
    "test_dataloader = DataLoader(test_dataset, batch_size=1, shuffle=True)"
   ]
  },
  {
   "cell_type": "code",
   "execution_count": 7,
   "id": "6acba433",
   "metadata": {},
   "outputs": [
    {
     "name": "stderr",
     "output_type": "stream",
     "text": [
      "[2021-05-09 19:23:29] [INFO] btc_train_with_sampling Epoch: 0\n",
      "[EPOCH 0/31]: 100%|██████████| 12917/12917 [24:59<00:00,  8.61it/s, data length=12917]\n",
      "[2021-05-09 19:48:29] [INFO] btc_train_with_sampling Epoch: 0, Training loss: 1056.3699428624388\n",
      "[2021-05-09 19:48:29] [INFO] btc_train_with_sampling Epoch: 1\n",
      "[EPOCH 1/31]: 100%|██████████| 12917/12917 [24:51<00:00,  8.66it/s, data length=12917]\n",
      "[2021-05-09 20:13:20] [INFO] btc_train_with_sampling Epoch: 2\n",
      "[EPOCH 2/31]: 100%|██████████| 12917/12917 [24:47<00:00,  8.69it/s, data length=12917]\n",
      "[2021-05-09 20:38:08] [INFO] btc_train_with_sampling Epoch: 3\n",
      "[EPOCH 26/31]:  54%|█████▍    | 7003/12917 [13:19<10:52,  9.06it/s, data length=7003]]IOPub message rate exceeded.\n",
      "The notebook server will temporarily stop sending output\n",
      "to the client in order to avoid crashing it.\n",
      "To change this limit, set the config variable\n",
      "`--NotebookApp.iopub_msg_rate_limit`.\n",
      "\n",
      "Current values:\n",
      "NotebookApp.iopub_msg_rate_limit=1000.0 (msgs/sec)\n",
      "NotebookApp.rate_limit_window=3.0 (secs)\n",
      "\n",
      "[EPOCH 26/31]:  84%|████████▎ | 10800/12917 [20:38<03:58,  8.87it/s, data length=10800]IOPub message rate exceeded.\n",
      "The notebook server will temporarily stop sending output\n",
      "to the client in order to avoid crashing it.\n",
      "To change this limit, set the config variable\n",
      "`--NotebookApp.iopub_msg_rate_limit`.\n",
      "\n",
      "Current values:\n",
      "NotebookApp.iopub_msg_rate_limit=1000.0 (msgs/sec)\n",
      "NotebookApp.rate_limit_window=3.0 (secs)\n",
      "\n",
      "[EPOCH 27/31]:  12%|█▏        | 1507/12917 [02:52<21:43,  8.75it/s, data length=1508]IOPub message rate exceeded.\n",
      "The notebook server will temporarily stop sending output\n",
      "to the client in order to avoid crashing it.\n",
      "To change this limit, set the config variable\n",
      "`--NotebookApp.iopub_msg_rate_limit`.\n",
      "\n",
      "Current values:\n",
      "NotebookApp.iopub_msg_rate_limit=1000.0 (msgs/sec)\n",
      "NotebookApp.rate_limit_window=3.0 (secs)\n",
      "\n",
      "[EPOCH 27/31]:  48%|████▊     | 6152/12917 [11:33<13:06,  8.60it/s, data length=6152]IOPub message rate exceeded.\n",
      "The notebook server will temporarily stop sending output\n",
      "to the client in order to avoid crashing it.\n",
      "To change this limit, set the config variable\n",
      "`--NotebookApp.iopub_msg_rate_limit`.\n",
      "\n",
      "Current values:\n",
      "NotebookApp.iopub_msg_rate_limit=1000.0 (msgs/sec)\n",
      "NotebookApp.rate_limit_window=3.0 (secs)\n",
      "\n",
      "[EPOCH 27/31]:  82%|████████▏ | 10636/12917 [19:51<04:09,  9.14it/s, data length=10636]IOPub message rate exceeded.\n",
      "The notebook server will temporarily stop sending output\n",
      "to the client in order to avoid crashing it.\n",
      "To change this limit, set the config variable\n",
      "`--NotebookApp.iopub_msg_rate_limit`.\n",
      "\n",
      "Current values:\n",
      "NotebookApp.iopub_msg_rate_limit=1000.0 (msgs/sec)\n",
      "NotebookApp.rate_limit_window=3.0 (secs)\n",
      "\n",
      "[EPOCH 28/31]:   6%|▌         | 801/12917 [01:29<22:06,  9.13it/s, data length=802]IOPub message rate exceeded.\n",
      "The notebook server will temporarily stop sending output\n",
      "to the client in order to avoid crashing it.\n",
      "To change this limit, set the config variable\n",
      "`--NotebookApp.iopub_msg_rate_limit`.\n",
      "\n",
      "Current values:\n",
      "NotebookApp.iopub_msg_rate_limit=1000.0 (msgs/sec)\n",
      "NotebookApp.rate_limit_window=3.0 (secs)\n",
      "\n",
      "[EPOCH 28/31]:  17%|█▋        | 2191/12917 [04:04<19:30,  9.16it/s, data length=2192]IOPub message rate exceeded.\n",
      "The notebook server will temporarily stop sending output\n",
      "to the client in order to avoid crashing it.\n",
      "To change this limit, set the config variable\n",
      "`--NotebookApp.iopub_msg_rate_limit`.\n",
      "\n",
      "Current values:\n",
      "NotebookApp.iopub_msg_rate_limit=1000.0 (msgs/sec)\n",
      "NotebookApp.rate_limit_window=3.0 (secs)\n",
      "\n",
      "[EPOCH 28/31]:  51%|█████▏    | 6624/12917 [12:17<11:25,  9.18it/s, data length=6625]IOPub message rate exceeded.\n",
      "The notebook server will temporarily stop sending output\n",
      "to the client in order to avoid crashing it.\n",
      "To change this limit, set the config variable\n",
      "`--NotebookApp.iopub_msg_rate_limit`.\n",
      "\n",
      "Current values:\n",
      "NotebookApp.iopub_msg_rate_limit=1000.0 (msgs/sec)\n",
      "NotebookApp.rate_limit_window=3.0 (secs)\n",
      "\n",
      "[EPOCH 30/31]: 100%|██████████| 12917/12917 [24:49<00:00,  8.67it/s, data length=12917]\n",
      "[2021-05-10 07:57:35] [INFO] btc_train_with_sampling Epoch: 30, Training loss: 1055.7071376264514\n"
     ]
    },
    {
     "ename": "AttributeError",
     "evalue": "'str' object has no attribute 'foramt'",
     "output_type": "error",
     "traceback": [
      "\u001b[0;31m---------------------------------------------------------------------------\u001b[0m",
      "\u001b[0;31mAttributeError\u001b[0m                            Traceback (most recent call last)",
      "\u001b[0;32m<ipython-input-7-94a3fcd6bb01>\u001b[0m in \u001b[0;36m<module>\u001b[0;34m\u001b[0m\n\u001b[1;32m      1\u001b[0m \u001b[0;31m# training\u001b[0m\u001b[0;34m\u001b[0m\u001b[0;34m\u001b[0m\u001b[0;34m\u001b[0m\u001b[0m\n\u001b[1;32m      2\u001b[0m \u001b[0mclean_directory\u001b[0m\u001b[0;34m(\u001b[0m\u001b[0;34m)\u001b[0m\u001b[0;34m\u001b[0m\u001b[0;34m\u001b[0m\u001b[0m\n\u001b[0;32m----> 3\u001b[0;31m \u001b[0mbest_model\u001b[0m \u001b[0;34m=\u001b[0m \u001b[0mtransformer\u001b[0m\u001b[0;34m(\u001b[0m\u001b[0mtrain_dataloader\u001b[0m\u001b[0;34m,\u001b[0m \u001b[0mepoch\u001b[0m\u001b[0;34m,\u001b[0m \u001b[0mk\u001b[0m\u001b[0;34m,\u001b[0m \u001b[0mfrequency\u001b[0m\u001b[0;34m,\u001b[0m \u001b[0mpath_to_save_model\u001b[0m\u001b[0;34m,\u001b[0m \u001b[0mpath_to_save_loss\u001b[0m\u001b[0;34m,\u001b[0m \u001b[0mpath_to_save_predictions\u001b[0m\u001b[0;34m,\u001b[0m \u001b[0mdevice\u001b[0m\u001b[0;34m)\u001b[0m\u001b[0;34m\u001b[0m\u001b[0;34m\u001b[0m\u001b[0m\n\u001b[0m",
      "\u001b[0;32m~/Transformer-Time-Series-Forecasting/btc_train_with_sampling.py\u001b[0m in \u001b[0;36mtransformer\u001b[0;34m(dataloader, EPOCH, k, frequency, path_to_save_model, path_to_save_loss, path_to_save_predictions, device)\u001b[0m\n\u001b[1;32m    109\u001b[0m \u001b[0;34m\u001b[0m\u001b[0m\n\u001b[1;32m    110\u001b[0m     \u001b[0mplot_loss\u001b[0m\u001b[0;34m(\u001b[0m\u001b[0mpath_to_save_loss\u001b[0m\u001b[0;34m,\u001b[0m \u001b[0mtrain\u001b[0m\u001b[0;34m=\u001b[0m\u001b[0;32mTrue\u001b[0m\u001b[0;34m)\u001b[0m\u001b[0;34m\u001b[0m\u001b[0;34m\u001b[0m\u001b[0m\n\u001b[0;32m--> 111\u001b[0;31m     \u001b[0mlogger\u001b[0m\u001b[0;34m.\u001b[0m\u001b[0minfo\u001b[0m\u001b[0;34m(\u001b[0m\u001b[0;34m'best model is {}'\u001b[0m\u001b[0;34m.\u001b[0m\u001b[0mforamt\u001b[0m\u001b[0;34m(\u001b[0m\u001b[0mbest_model\u001b[0m\u001b[0;34m)\u001b[0m\u001b[0;34m)\u001b[0m\u001b[0;34m\u001b[0m\u001b[0;34m\u001b[0m\u001b[0m\n\u001b[0m\u001b[1;32m    112\u001b[0m     \u001b[0;32mreturn\u001b[0m \u001b[0mbest_model\u001b[0m\u001b[0;34m\u001b[0m\u001b[0;34m\u001b[0m\u001b[0m\n",
      "\u001b[0;31mAttributeError\u001b[0m: 'str' object has no attribute 'foramt'"
     ]
    }
   ],
   "source": [
    "# training\n",
    "clean_directory()\n",
    "best_model = transformer(train_dataloader, epoch, k, frequency, path_to_save_model, path_to_save_loss, path_to_save_predictions, device)"
   ]
  },
  {
   "cell_type": "code",
   "execution_count": 7,
   "id": "127379c3",
   "metadata": {},
   "outputs": [],
   "source": [
    "best_model = 'best_train_27.pth'"
   ]
  },
  {
   "cell_type": "code",
   "execution_count": 8,
   "id": "5ad9c273",
   "metadata": {},
   "outputs": [
    {
     "name": "stderr",
     "output_type": "stream",
     "text": [
      "[2021-05-10 09:08:04] [INFO] btc_inference data len is 5537\n",
      "[PLOT 0/25]: 100%|██████████| 5537/5537 [05:26<00:00, 16.95it/s, data length=5537]\n",
      "[2021-05-10 09:13:31] [INFO] btc_inference data len is 5537\n",
      "[PLOT 1/25]: 100%|██████████| 5537/5537 [05:21<00:00, 17.20it/s, data length=5537]\n",
      "[2021-05-10 09:18:52] [INFO] btc_inference data len is 5537\n",
      "[PLOT 2/25]: 100%|██████████| 5537/5537 [05:17<00:00, 17.44it/s, data length=5537]\n",
      "[2021-05-10 09:24:10] [INFO] btc_inference data len is 5537\n",
      "[PLOT 3/25]: 100%|██████████| 5537/5537 [05:06<00:00, 18.08it/s, data length=5537]\n",
      "[2021-05-10 09:29:16] [INFO] btc_inference data len is 5537\n",
      "[PLOT 4/25]: 100%|██████████| 5537/5537 [05:10<00:00, 17.81it/s, data length=5537]\n",
      "[2021-05-10 09:34:27] [INFO] btc_inference data len is 5537\n",
      "[PLOT 5/25]: 100%|██████████| 5537/5537 [05:12<00:00, 17.69it/s, data length=5537]\n",
      "[2021-05-10 09:39:40] [INFO] btc_inference data len is 5537\n",
      "[PLOT 6/25]: 100%|██████████| 5537/5537 [05:06<00:00, 18.05it/s, data length=5537]\n",
      "[2021-05-10 09:44:47] [INFO] btc_inference data len is 5537\n",
      "[PLOT 7/25]: 100%|██████████| 5537/5537 [05:11<00:00, 17.77it/s, data length=5537]\n",
      "[2021-05-10 09:49:58] [INFO] btc_inference data len is 5537\n",
      "[PLOT 8/25]: 100%|██████████| 5537/5537 [05:12<00:00, 17.69it/s, data length=5537]\n",
      "[2021-05-10 09:55:11] [INFO] btc_inference data len is 5537\n",
      "[PLOT 9/25]: 100%|██████████| 5537/5537 [05:09<00:00, 17.89it/s, data length=5537]\n",
      "[2021-05-10 10:00:21] [INFO] btc_inference data len is 5537\n",
      "[PLOT 10/25]: 100%|██████████| 5537/5537 [05:14<00:00, 17.63it/s, data length=5537]\n",
      "[2021-05-10 10:05:35] [INFO] btc_inference data len is 5537\n",
      "[PLOT 11/25]: 100%|██████████| 5537/5537 [05:13<00:00, 17.65it/s, data length=5537]\n",
      "[2021-05-10 10:10:49] [INFO] btc_inference data len is 5537\n",
      "[PLOT 12/25]: 100%|██████████| 5537/5537 [05:12<00:00, 17.74it/s, data length=5537]\n",
      "[2021-05-10 10:16:01] [INFO] btc_inference data len is 5537\n",
      "[PLOT 13/25]: 100%|██████████| 5537/5537 [05:14<00:00, 17.59it/s, data length=5537]\n",
      "[2021-05-10 10:21:15] [INFO] btc_inference data len is 5537\n",
      "[PLOT 14/25]: 100%|██████████| 5537/5537 [05:12<00:00, 17.73it/s, data length=5537]\n",
      "[2021-05-10 10:26:28] [INFO] btc_inference data len is 5537\n",
      "[PLOT 15/25]: 100%|██████████| 5537/5537 [05:10<00:00, 17.85it/s, data length=5537]\n",
      "[2021-05-10 10:31:38] [INFO] btc_inference data len is 5537\n",
      "[PLOT 16/25]: 100%|██████████| 5537/5537 [05:11<00:00, 17.79it/s, data length=5537]\n",
      "[2021-05-10 10:36:49] [INFO] btc_inference data len is 5537\n",
      "[PLOT 17/25]: 100%|██████████| 5537/5537 [05:10<00:00, 17.81it/s, data length=5537]\n",
      "[2021-05-10 10:42:00] [INFO] btc_inference data len is 5537\n",
      "[PLOT 18/25]: 100%|██████████| 5537/5537 [05:05<00:00, 18.12it/s, data length=5537]\n",
      "[2021-05-10 10:47:06] [INFO] btc_inference data len is 5537\n",
      "[PLOT 19/25]: 100%|██████████| 5537/5537 [05:12<00:00, 17.70it/s, data length=5537]\n",
      "[2021-05-10 10:52:19] [INFO] btc_inference data len is 5537\n",
      "[PLOT 20/25]: 100%|██████████| 5537/5537 [05:14<00:00, 17.61it/s, data length=5537]\n",
      "[2021-05-10 10:57:33] [INFO] btc_inference data len is 5537\n",
      "[PLOT 21/25]: 100%|██████████| 5537/5537 [05:11<00:00, 17.80it/s, data length=5537]\n",
      "[2021-05-10 11:02:44] [INFO] btc_inference data len is 5537\n",
      "[PLOT 22/25]: 100%|██████████| 5537/5537 [05:12<00:00, 17.70it/s, data length=5537]\n",
      "[2021-05-10 11:07:57] [INFO] btc_inference data len is 5537\n",
      "[PLOT 23/25]: 100%|██████████| 5537/5537 [05:12<00:00, 17.73it/s, data length=5537]\n",
      "[2021-05-10 11:13:09] [INFO] btc_inference data len is 5537\n",
      "[PLOT 24/25]: 100%|██████████| 5537/5537 [05:11<00:00, 17.79it/s, data length=5537]\n",
      "[2021-05-10 11:18:21] [INFO] btc_inference Loss On Unseen Dataset: 119.65446810775639\n"
     ]
    }
   ],
   "source": [
    "# prediction\n",
    "inference(path_to_save_predictions, forecast_window, test_dataloader, device, path_to_save_model, best_model)"
   ]
  },
  {
   "cell_type": "code",
   "execution_count": 10,
   "id": "2114102b",
   "metadata": {},
   "outputs": [],
   "source": [
    "import torch.nn as nn\n",
    "import torch\n",
    "\n",
    "loss = nn.MSELoss()\n",
    "input = torch.randn(3, 5, requires_grad=True)\n",
    "target = torch.randn(3, 5)\n",
    "output = loss(input, target)\n",
    "output.backward()"
   ]
  },
  {
   "cell_type": "code",
   "execution_count": 15,
   "id": "6314a91c",
   "metadata": {},
   "outputs": [
    {
     "data": {
      "text/plain": [
       "0.9150187969207764"
      ]
     },
     "execution_count": 15,
     "metadata": {},
     "output_type": "execute_result"
    }
   ],
   "source": [
    "# 23.846900028191342\n",
    "output.item()"
   ]
  },
  {
   "cell_type": "code",
   "execution_count": null,
   "id": "d17a63ae",
   "metadata": {},
   "outputs": [],
   "source": [
    "# Creating csv data files"
   ]
  },
  {
   "cell_type": "code",
   "execution_count": 1,
   "id": "b7ed5e4e",
   "metadata": {},
   "outputs": [
    {
     "data": {
      "text/plain": [
       "18454"
      ]
     },
     "execution_count": 1,
     "metadata": {},
     "output_type": "execute_result"
    }
   ],
   "source": [
    "import pandas as pd\n",
    "btc_data = pd.read_csv('./Data/processed_btc_3hrs_data.csv')\n",
    "btc_data.shape[0]"
   ]
  },
  {
   "cell_type": "code",
   "execution_count": 2,
   "id": "d3efd9a5",
   "metadata": {},
   "outputs": [
    {
     "data": {
      "text/plain": [
       "12917"
      ]
     },
     "execution_count": 2,
     "metadata": {},
     "output_type": "execute_result"
    }
   ],
   "source": [
    "total_len = btc_data.shape[0]\n",
    "split_point = int(total_len * 0.7)\n",
    "split_point"
   ]
  },
  {
   "cell_type": "code",
   "execution_count": 3,
   "id": "d0cf0bc8",
   "metadata": {},
   "outputs": [
    {
     "name": "stdout",
     "output_type": "stream",
     "text": [
      "12917\n",
      "5537\n"
     ]
    }
   ],
   "source": [
    "btc_data_train_3hrs = btc_data[:split_point]\n",
    "btc_data_test_3hrs = btc_data[split_point:]\n",
    "print(btc_data_train_3hrs.shape[0])\n",
    "print(btc_data_test_3hrs.shape[0])"
   ]
  },
  {
   "cell_type": "code",
   "execution_count": 4,
   "id": "47e0cb95",
   "metadata": {},
   "outputs": [],
   "source": [
    "btc_data_train_3hrs.to_csv('./Data/btc_data_train_3hrs.csv')"
   ]
  },
  {
   "cell_type": "code",
   "execution_count": 5,
   "id": "6cc36498",
   "metadata": {},
   "outputs": [],
   "source": [
    "btc_data_test_3hrs.to_csv('./Data/btc_data_test_3hrs.csv')"
   ]
  },
  {
   "cell_type": "code",
   "execution_count": null,
   "id": "403e0c92",
   "metadata": {},
   "outputs": [],
   "source": [
    "import matplotlib.pyplot as plt\n",
    "import pandas as pd\n",
    "import datetime\n",
    "\n",
    "train_df = pd.read_csv('./Data/processed_btc_data_test.csv')"
   ]
  },
  {
   "cell_type": "code",
   "execution_count": 8,
   "id": "208705b5",
   "metadata": {},
   "outputs": [
    {
     "data": {
      "image/png": "[encoded data removed]",
      "text/plain": [
       "<Figure size 432x288 with 1 Axes>"
      ]
     },
     "metadata": {
      "needs_background": "light"
     },
     "output_type": "display_data"
    }
   ],
   "source": [
    "# train_df = train_df[1000:]\n",
    "fig, ax = plt.subplots()\n",
    "ax.set_ylabel('Closing Price ($)', fontsize=12)\n",
    "ax.set_xlabel('Time', fontsize=12)\n",
    "ax.plot(train['date_time'], train['price_close'])\n",
    "plt.show()\n"
   ]
  }
 ],
 "metadata": {
  "environment": {
   "name": "pytorch-gpu.1-8.m65",
   "type": "gcloud",
   "uri": "gcr.io/deeplearning-platform-release/pytorch-gpu.1-8:m65"
  },
  "kernelspec": {
   "display_name": "Python [conda env:pytorch]",
   "language": "python",
   "name": "conda-env-pytorch-py"
  },
  "language_info": {
   "codemirror_mode": {
    "name": "ipython",
    "version": 3
   },
   "file_extension": ".py",
   "mimetype": "text/x-python",
   "name": "python",
   "nbconvert_exporter": "python",
   "pygments_lexer": "ipython3",
   "version": "3.9.2"
  }
 },
 "nbformat": 4,
 "nbformat_minor": 5
}
